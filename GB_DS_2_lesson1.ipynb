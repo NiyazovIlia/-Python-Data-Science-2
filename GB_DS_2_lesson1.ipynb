{
  "nbformat": 4,
  "nbformat_minor": 0,
  "metadata": {
    "colab": {
      "name": "GB-DS-2-lesson1.ipynb",
      "provenance": [],
      "authorship_tag": "ABX9TyMWXnV1dIIZjBppLfcetqUr",
      "include_colab_link": true
    },
    "kernelspec": {
      "name": "python3",
      "display_name": "Python 3"
    },
    "language_info": {
      "name": "python"
    }
  },
  "cells": [
    {
      "cell_type": "markdown",
      "metadata": {
        "id": "view-in-github",
        "colab_type": "text"
      },
      "source": [
        "<a href=\"https://colab.research.google.com/github/NiyazovIlia/-Python-Data-Science-2/blob/lesson-1/GB_DS_2_lesson1.ipynb\" target=\"_parent\"><img src=\"https://colab.research.google.com/assets/colab-badge.svg\" alt=\"Open In Colab\"/></a>"
      ]
    },
    {
      "cell_type": "code",
      "metadata": {
        "id": "5U6Bu6PksCc6"
      },
      "source": [
        "import numpy\n",
        "import sklearn.metrics"
      ],
      "execution_count": 1,
      "outputs": []
    },
    {
      "cell_type": "code",
      "metadata": {
        "colab": {
          "base_uri": "https://localhost:8080/"
        },
        "id": "Gd4fkX8slag5",
        "outputId": "818bdbb5-f690-4bd1-9764-e4a0f04fb3da"
      },
      "source": [
        "y_true = [1, 0, 0, 1, 1, 1, 0]\n",
        "y_pred = [1, 0, 1, 1, 0, 1, 1]\n",
        "\n",
        "acc = sklearn.metrics.accuracy_score(y_true, y_pred)\n",
        "print(acc)"
      ],
      "execution_count": 2,
      "outputs": [
        {
          "output_type": "stream",
          "text": [
            "0.5714285714285714\n"
          ],
          "name": "stdout"
        }
      ]
    },
    {
      "cell_type": "code",
      "metadata": {
        "colab": {
          "base_uri": "https://localhost:8080/"
        },
        "id": "W_AA5dAvrbDO",
        "outputId": "329f70fd-934f-4c78-c2a6-2821a3987712"
      },
      "source": [
        "y_true = [1, 0, 0, 1, 1, 1, 0]\n",
        "y_pred = [1, 0, 1, 1, 0, 1, 0]\n",
        "\n",
        "acc = sklearn.metrics.precision_score(y_true, y_pred, pos_label=1)\n",
        "print(acc)"
      ],
      "execution_count": 3,
      "outputs": [
        {
          "output_type": "stream",
          "text": [
            "0.75\n"
          ],
          "name": "stdout"
        }
      ]
    },
    {
      "cell_type": "code",
      "metadata": {
        "colab": {
          "base_uri": "https://localhost:8080/"
        },
        "id": "cWw_7PyDr-Il",
        "outputId": "035aaf1f-4ace-4339-8b3f-1584fe3f90eb"
      },
      "source": [
        "y_true = [1, 0, 0, 1, 1, 1, 0]\n",
        "y_pred = [1, 0, 1, 1, 0, 1, 0]\n",
        "\n",
        "acc = sklearn.metrics.recall_score(y_true, y_pred, pos_label=1)\n",
        "print(acc)"
      ],
      "execution_count": 4,
      "outputs": [
        {
          "output_type": "stream",
          "text": [
            "0.75\n"
          ],
          "name": "stdout"
        }
      ]
    },
    {
      "cell_type": "code",
      "metadata": {
        "colab": {
          "base_uri": "https://localhost:8080/"
        },
        "id": "kPKjHp9esVOU",
        "outputId": "907ba00f-d22b-4d84-ed24-188d88a9d759"
      },
      "source": [
        "y_true = [1, 0, 0, 1, 1, 1, 0]\n",
        "y_pred = [1, 0, 1, 1, 0, 1, 1]\n",
        "\n",
        "acc = sklearn.metrics.f1_score(y_true, y_pred, pos_label=1, average='micro')\n",
        "print(acc)"
      ],
      "execution_count": 5,
      "outputs": [
        {
          "output_type": "stream",
          "text": [
            "0.5714285714285714\n"
          ],
          "name": "stdout"
        }
      ]
    }
  ]
}