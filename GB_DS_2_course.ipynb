{
  "nbformat": 4,
  "nbformat_minor": 0,
  "metadata": {
    "colab": {
      "name": "GB-DS-2-course.ipynb",
      "provenance": [],
      "collapsed_sections": [
        "aSkGM8xpLfGy",
        "slWULUS-LwSR",
        "xP0-dthSLzE8",
        "pRLzV28-MBol",
        "S_XLXe2sMKGn",
        "10pWKHBdMWBs",
        "gos-Gsp4DuNR",
        "1_awpA17Dlkd",
        "Fp54gYKsFHki",
        "YkSkFwvtFGKK",
        "QF5d1nCRGQRY",
        "vi6jenLaG7CE",
        "S0sNUL2KHs-A",
        "Xgrc5C47I9tn",
        "Sh5DqcSJS309",
        "jSI7PkO4QZwi",
        "YWRibHtv355f",
        "rmoErg5G5WHZ",
        "MhTapdfq68CX",
        "pANLsxnw7Ksm",
        "tsi5Lrcj7eNn",
        "sV8_ZSlW7wZd",
        "97egIWCuJHvA",
        "bocdu_ZWIaMY",
        "zDz9X-OhGG4S",
        "5NnVYhmwKeI4"
      ],
      "authorship_tag": "ABX9TyNvZfhSiVMPntFgvebVTC6O",
      "include_colab_link": true
    },
    "kernelspec": {
      "name": "python3",
      "display_name": "Python 3"
    },
    "language_info": {
      "name": "python"
    }
  },
  "cells": [
    {
      "cell_type": "markdown",
      "metadata": {
        "id": "view-in-github",
        "colab_type": "text"
      },
      "source": [
        "<a href=\"https://colab.research.google.com/github/NiyazovIlia/-Python-Data-Science-2/blob/lesson-3/GB_DS_2_course.ipynb\" target=\"_parent\"><img src=\"https://colab.research.google.com/assets/colab-badge.svg\" alt=\"Open In Colab\"/></a>"
      ]
    },
    {
      "cell_type": "markdown",
      "metadata": {
        "id": "PrCM2yLbLZpy"
      },
      "source": [
        "# 1.Подключение бибилиотек и данных"
      ]
    },
    {
      "cell_type": "code",
      "metadata": {
        "id": "FUPjtRNxJ8if"
      },
      "source": [
        "# !pip install xgboost\n",
        "# !pip install lightgbm\n",
        "# !pip install catboost"
      ],
      "execution_count": 1,
      "outputs": []
    },
    {
      "cell_type": "code",
      "metadata": {
        "id": "bBqEGmJps_KL"
      },
      "source": [
        "import pandas as pd\n",
        "import numpy as np\n",
        "import pickle\n",
        "import random\n",
        "from pathlib import Path\n",
        "\n",
        "from sklearn.preprocessing import StandardScaler, MinMaxScaler\n",
        "from sklearn.model_selection import train_test_split, ShuffleSplit, cross_val_score, learning_curve\n",
        "from sklearn.model_selection import StratifiedKFold, GridSearchCV, RandomizedSearchCV, KFold\n",
        "from sklearn.metrics import classification_report, f1_score, precision_score, recall_score\n",
        "\n",
        "from sklearn.tree import DecisionTreeClassifier\n",
        "from sklearn.linear_model import LogisticRegression\n",
        "from sklearn.neighbors import KNeighborsClassifier\n",
        "import xgboost as xgb, lightgbm as lgbm, catboost as catb\n",
        "\n",
        "import seaborn as sns\n",
        "from matplotlib import pyplot as plt\n",
        "\n",
        "import warnings\n",
        "warnings.filterwarnings('ignore')\n",
        "\n",
        "%matplotlib inline\n",
        "\n",
        "TRAIN_PATH = 'train.csv'\n",
        "TEST_PATH = 'test.csv'\n",
        "SUBMIT_PATH = 'sample_submission.csv'"
      ],
      "execution_count": 2,
      "outputs": []
    },
    {
      "cell_type": "markdown",
      "metadata": {
        "id": "aSkGM8xpLfGy"
      },
      "source": [
        "# 2.Загрузка данных в Data Frame"
      ]
    },
    {
      "cell_type": "markdown",
      "metadata": {
        "id": "CpHvHNNsLjA5"
      },
      "source": [
        "## Описание файлов\n",
        "1. train.csv - тренировочные данные\n",
        "2. test.csv - тестовые данные\n",
        "3. sampleSubmission.csv - образец файла для отправки в правильном формате"
      ]
    },
    {
      "cell_type": "markdown",
      "metadata": {
        "id": "YyxaMJVcthKh"
      },
      "source": [
        "## Описание признаков данных\n",
        "Home Ownership - домовладение\n",
        "\n",
        "Annual Income - годовой доход\n",
        "\n",
        "Years in current job - количество лет на текущем месте работы\n",
        "\n",
        "Tax Liens - налоговые обременения\n",
        "\n",
        "Number of Open Accounts - количество открытых счетов\n",
        "\n",
        "Years of Credit History - количество лет кредитной истории\n",
        "\n",
        "Maximum Open Credit - наибольший открытый кредит (максимальная сумма, которая когда-либо была доступна клиенту)\n",
        "\n",
        "Number of Credit Problems - количество проблем с кредитом\n",
        "\n",
        "Months since last delinquent - количество месяцев с последней просрочки платежа\n",
        "\n",
        "Bankruptcies - банкротства\n",
        "\n",
        "Purpose - цель кредита\n",
        "\n",
        "Term - срок кредита\n",
        "\n",
        "Current Loan Amount - текущая сумма кредита (сумма, которую еще предстоит выплатить клиенту)\n",
        "\n",
        "Current Credit Balance - текущий кредитный баланс (сумма, которую может тратить клиент с кредитного счета)\n",
        "\n",
        "Monthly Debt - ежемесячный долг\n",
        "\n",
        "Credit Score - баллы кредитного рейтинга\n",
        "\n",
        "Credit Default - факт невыполнения кредитных обязательств (0 - погашен вовремя, 1 - просрочка)"
      ]
    },
    {
      "cell_type": "code",
      "metadata": {
        "colab": {
          "base_uri": "https://localhost:8080/",
          "height": 0
        },
        "id": "bZFHp553th4U",
        "outputId": "200326d1-6933-433f-d84d-64d61cdaa768"
      },
      "source": [
        "# Импортируем данные train.csv в pandas Dataframe\n",
        "df_train = pd.read_csv(TRAIN_PATH, sep=',')\n",
        "df_test = pd.read_csv(TEST_PATH, sep=',')\n",
        "df_train.head()"
      ],
      "execution_count": 3,
      "outputs": [
        {
          "output_type": "execute_result",
          "data": {
            "text/html": [
              "<div>\n",
              "<style scoped>\n",
              "    .dataframe tbody tr th:only-of-type {\n",
              "        vertical-align: middle;\n",
              "    }\n",
              "\n",
              "    .dataframe tbody tr th {\n",
              "        vertical-align: top;\n",
              "    }\n",
              "\n",
              "    .dataframe thead th {\n",
              "        text-align: right;\n",
              "    }\n",
              "</style>\n",
              "<table border=\"1\" class=\"dataframe\">\n",
              "  <thead>\n",
              "    <tr style=\"text-align: right;\">\n",
              "      <th></th>\n",
              "      <th>Home Ownership</th>\n",
              "      <th>Annual Income</th>\n",
              "      <th>Years in current job</th>\n",
              "      <th>Tax Liens</th>\n",
              "      <th>Number of Open Accounts</th>\n",
              "      <th>Years of Credit History</th>\n",
              "      <th>Maximum Open Credit</th>\n",
              "      <th>Number of Credit Problems</th>\n",
              "      <th>Months since last delinquent</th>\n",
              "      <th>Bankruptcies</th>\n",
              "      <th>Purpose</th>\n",
              "      <th>Term</th>\n",
              "      <th>Current Loan Amount</th>\n",
              "      <th>Current Credit Balance</th>\n",
              "      <th>Monthly Debt</th>\n",
              "      <th>Credit Score</th>\n",
              "      <th>Credit Default</th>\n",
              "    </tr>\n",
              "  </thead>\n",
              "  <tbody>\n",
              "    <tr>\n",
              "      <th>0</th>\n",
              "      <td>Own Home</td>\n",
              "      <td>482087.0</td>\n",
              "      <td>NaN</td>\n",
              "      <td>0.0</td>\n",
              "      <td>11.0</td>\n",
              "      <td>26.3</td>\n",
              "      <td>685960.0</td>\n",
              "      <td>1.0</td>\n",
              "      <td>NaN</td>\n",
              "      <td>1.0</td>\n",
              "      <td>debt consolidation</td>\n",
              "      <td>Short Term</td>\n",
              "      <td>99999999.0</td>\n",
              "      <td>47386.0</td>\n",
              "      <td>7914.0</td>\n",
              "      <td>749.0</td>\n",
              "      <td>0</td>\n",
              "    </tr>\n",
              "    <tr>\n",
              "      <th>1</th>\n",
              "      <td>Own Home</td>\n",
              "      <td>1025487.0</td>\n",
              "      <td>10+ years</td>\n",
              "      <td>0.0</td>\n",
              "      <td>15.0</td>\n",
              "      <td>15.3</td>\n",
              "      <td>1181730.0</td>\n",
              "      <td>0.0</td>\n",
              "      <td>NaN</td>\n",
              "      <td>0.0</td>\n",
              "      <td>debt consolidation</td>\n",
              "      <td>Long Term</td>\n",
              "      <td>264968.0</td>\n",
              "      <td>394972.0</td>\n",
              "      <td>18373.0</td>\n",
              "      <td>737.0</td>\n",
              "      <td>1</td>\n",
              "    </tr>\n",
              "    <tr>\n",
              "      <th>2</th>\n",
              "      <td>Home Mortgage</td>\n",
              "      <td>751412.0</td>\n",
              "      <td>8 years</td>\n",
              "      <td>0.0</td>\n",
              "      <td>11.0</td>\n",
              "      <td>35.0</td>\n",
              "      <td>1182434.0</td>\n",
              "      <td>0.0</td>\n",
              "      <td>NaN</td>\n",
              "      <td>0.0</td>\n",
              "      <td>debt consolidation</td>\n",
              "      <td>Short Term</td>\n",
              "      <td>99999999.0</td>\n",
              "      <td>308389.0</td>\n",
              "      <td>13651.0</td>\n",
              "      <td>742.0</td>\n",
              "      <td>0</td>\n",
              "    </tr>\n",
              "    <tr>\n",
              "      <th>3</th>\n",
              "      <td>Own Home</td>\n",
              "      <td>805068.0</td>\n",
              "      <td>6 years</td>\n",
              "      <td>0.0</td>\n",
              "      <td>8.0</td>\n",
              "      <td>22.5</td>\n",
              "      <td>147400.0</td>\n",
              "      <td>1.0</td>\n",
              "      <td>NaN</td>\n",
              "      <td>1.0</td>\n",
              "      <td>debt consolidation</td>\n",
              "      <td>Short Term</td>\n",
              "      <td>121396.0</td>\n",
              "      <td>95855.0</td>\n",
              "      <td>11338.0</td>\n",
              "      <td>694.0</td>\n",
              "      <td>0</td>\n",
              "    </tr>\n",
              "    <tr>\n",
              "      <th>4</th>\n",
              "      <td>Rent</td>\n",
              "      <td>776264.0</td>\n",
              "      <td>8 years</td>\n",
              "      <td>0.0</td>\n",
              "      <td>13.0</td>\n",
              "      <td>13.6</td>\n",
              "      <td>385836.0</td>\n",
              "      <td>1.0</td>\n",
              "      <td>NaN</td>\n",
              "      <td>0.0</td>\n",
              "      <td>debt consolidation</td>\n",
              "      <td>Short Term</td>\n",
              "      <td>125840.0</td>\n",
              "      <td>93309.0</td>\n",
              "      <td>7180.0</td>\n",
              "      <td>719.0</td>\n",
              "      <td>0</td>\n",
              "    </tr>\n",
              "  </tbody>\n",
              "</table>\n",
              "</div>"
            ],
            "text/plain": [
              "  Home Ownership  Annual Income  ... Credit Score  Credit Default\n",
              "0       Own Home       482087.0  ...        749.0               0\n",
              "1       Own Home      1025487.0  ...        737.0               1\n",
              "2  Home Mortgage       751412.0  ...        742.0               0\n",
              "3       Own Home       805068.0  ...        694.0               0\n",
              "4           Rent       776264.0  ...        719.0               0\n",
              "\n",
              "[5 rows x 17 columns]"
            ]
          },
          "metadata": {
            "tags": []
          },
          "execution_count": 3
        }
      ]
    },
    {
      "cell_type": "markdown",
      "metadata": {
        "id": "slWULUS-LwSR"
      },
      "source": [
        "# 3.EDA"
      ]
    },
    {
      "cell_type": "markdown",
      "metadata": {
        "id": "xP0-dthSLzE8"
      },
      "source": [
        "## Основная информация о Data Frame"
      ]
    },
    {
      "cell_type": "code",
      "metadata": {
        "colab": {
          "base_uri": "https://localhost:8080/"
        },
        "id": "GflDe9iCt6tb",
        "outputId": "567ecdd7-7687-4aaf-f24a-d8a374f6f022"
      },
      "source": [
        "# Посмотрим основную информацию по все признакам\n",
        "df_train.info()"
      ],
      "execution_count": 4,
      "outputs": [
        {
          "output_type": "stream",
          "text": [
            "<class 'pandas.core.frame.DataFrame'>\n",
            "RangeIndex: 7500 entries, 0 to 7499\n",
            "Data columns (total 17 columns):\n",
            " #   Column                        Non-Null Count  Dtype  \n",
            "---  ------                        --------------  -----  \n",
            " 0   Home Ownership                7500 non-null   object \n",
            " 1   Annual Income                 5943 non-null   float64\n",
            " 2   Years in current job          7129 non-null   object \n",
            " 3   Tax Liens                     7500 non-null   float64\n",
            " 4   Number of Open Accounts       7500 non-null   float64\n",
            " 5   Years of Credit History       7500 non-null   float64\n",
            " 6   Maximum Open Credit           7500 non-null   float64\n",
            " 7   Number of Credit Problems     7500 non-null   float64\n",
            " 8   Months since last delinquent  3419 non-null   float64\n",
            " 9   Bankruptcies                  7486 non-null   float64\n",
            " 10  Purpose                       7500 non-null   object \n",
            " 11  Term                          7500 non-null   object \n",
            " 12  Current Loan Amount           7500 non-null   float64\n",
            " 13  Current Credit Balance        7500 non-null   float64\n",
            " 14  Monthly Debt                  7500 non-null   float64\n",
            " 15  Credit Score                  5943 non-null   float64\n",
            " 16  Credit Default                7500 non-null   int64  \n",
            "dtypes: float64(12), int64(1), object(4)\n",
            "memory usage: 996.2+ KB\n"
          ],
          "name": "stdout"
        }
      ]
    },
    {
      "cell_type": "code",
      "metadata": {
        "colab": {
          "base_uri": "https://localhost:8080/",
          "height": 0
        },
        "id": "ngdUD0XJuE5c",
        "outputId": "7f65630b-f2ab-4827-fce0-4e6276898e8d"
      },
      "source": [
        "# Посмотрим основные статистики\n",
        "df_train.describe()"
      ],
      "execution_count": 5,
      "outputs": [
        {
          "output_type": "execute_result",
          "data": {
            "text/html": [
              "<div>\n",
              "<style scoped>\n",
              "    .dataframe tbody tr th:only-of-type {\n",
              "        vertical-align: middle;\n",
              "    }\n",
              "\n",
              "    .dataframe tbody tr th {\n",
              "        vertical-align: top;\n",
              "    }\n",
              "\n",
              "    .dataframe thead th {\n",
              "        text-align: right;\n",
              "    }\n",
              "</style>\n",
              "<table border=\"1\" class=\"dataframe\">\n",
              "  <thead>\n",
              "    <tr style=\"text-align: right;\">\n",
              "      <th></th>\n",
              "      <th>Annual Income</th>\n",
              "      <th>Tax Liens</th>\n",
              "      <th>Number of Open Accounts</th>\n",
              "      <th>Years of Credit History</th>\n",
              "      <th>Maximum Open Credit</th>\n",
              "      <th>Number of Credit Problems</th>\n",
              "      <th>Months since last delinquent</th>\n",
              "      <th>Bankruptcies</th>\n",
              "      <th>Current Loan Amount</th>\n",
              "      <th>Current Credit Balance</th>\n",
              "      <th>Monthly Debt</th>\n",
              "      <th>Credit Score</th>\n",
              "      <th>Credit Default</th>\n",
              "    </tr>\n",
              "  </thead>\n",
              "  <tbody>\n",
              "    <tr>\n",
              "      <th>count</th>\n",
              "      <td>5.943000e+03</td>\n",
              "      <td>7500.000000</td>\n",
              "      <td>7500.000000</td>\n",
              "      <td>7500.000000</td>\n",
              "      <td>7.500000e+03</td>\n",
              "      <td>7500.000000</td>\n",
              "      <td>3419.000000</td>\n",
              "      <td>7486.000000</td>\n",
              "      <td>7.500000e+03</td>\n",
              "      <td>7.500000e+03</td>\n",
              "      <td>7500.000000</td>\n",
              "      <td>5943.000000</td>\n",
              "      <td>7500.000000</td>\n",
              "    </tr>\n",
              "    <tr>\n",
              "      <th>mean</th>\n",
              "      <td>1.366392e+06</td>\n",
              "      <td>0.030133</td>\n",
              "      <td>11.130933</td>\n",
              "      <td>18.317467</td>\n",
              "      <td>9.451537e+05</td>\n",
              "      <td>0.170000</td>\n",
              "      <td>34.692600</td>\n",
              "      <td>0.117152</td>\n",
              "      <td>1.187318e+07</td>\n",
              "      <td>2.898332e+05</td>\n",
              "      <td>18314.454133</td>\n",
              "      <td>1151.087498</td>\n",
              "      <td>0.281733</td>\n",
              "    </tr>\n",
              "    <tr>\n",
              "      <th>std</th>\n",
              "      <td>8.453392e+05</td>\n",
              "      <td>0.271604</td>\n",
              "      <td>4.908924</td>\n",
              "      <td>7.041946</td>\n",
              "      <td>1.602622e+07</td>\n",
              "      <td>0.498598</td>\n",
              "      <td>21.688806</td>\n",
              "      <td>0.347192</td>\n",
              "      <td>3.192612e+07</td>\n",
              "      <td>3.178714e+05</td>\n",
              "      <td>11926.764673</td>\n",
              "      <td>1604.451418</td>\n",
              "      <td>0.449874</td>\n",
              "    </tr>\n",
              "    <tr>\n",
              "      <th>min</th>\n",
              "      <td>1.645970e+05</td>\n",
              "      <td>0.000000</td>\n",
              "      <td>2.000000</td>\n",
              "      <td>4.000000</td>\n",
              "      <td>0.000000e+00</td>\n",
              "      <td>0.000000</td>\n",
              "      <td>0.000000</td>\n",
              "      <td>0.000000</td>\n",
              "      <td>1.124200e+04</td>\n",
              "      <td>0.000000e+00</td>\n",
              "      <td>0.000000</td>\n",
              "      <td>585.000000</td>\n",
              "      <td>0.000000</td>\n",
              "    </tr>\n",
              "    <tr>\n",
              "      <th>25%</th>\n",
              "      <td>8.443410e+05</td>\n",
              "      <td>0.000000</td>\n",
              "      <td>8.000000</td>\n",
              "      <td>13.500000</td>\n",
              "      <td>2.792295e+05</td>\n",
              "      <td>0.000000</td>\n",
              "      <td>16.000000</td>\n",
              "      <td>0.000000</td>\n",
              "      <td>1.801690e+05</td>\n",
              "      <td>1.142565e+05</td>\n",
              "      <td>10067.500000</td>\n",
              "      <td>711.000000</td>\n",
              "      <td>0.000000</td>\n",
              "    </tr>\n",
              "    <tr>\n",
              "      <th>50%</th>\n",
              "      <td>1.168386e+06</td>\n",
              "      <td>0.000000</td>\n",
              "      <td>10.000000</td>\n",
              "      <td>17.000000</td>\n",
              "      <td>4.781590e+05</td>\n",
              "      <td>0.000000</td>\n",
              "      <td>32.000000</td>\n",
              "      <td>0.000000</td>\n",
              "      <td>3.095730e+05</td>\n",
              "      <td>2.093230e+05</td>\n",
              "      <td>16076.500000</td>\n",
              "      <td>731.000000</td>\n",
              "      <td>0.000000</td>\n",
              "    </tr>\n",
              "    <tr>\n",
              "      <th>75%</th>\n",
              "      <td>1.640137e+06</td>\n",
              "      <td>0.000000</td>\n",
              "      <td>14.000000</td>\n",
              "      <td>21.800000</td>\n",
              "      <td>7.935015e+05</td>\n",
              "      <td>0.000000</td>\n",
              "      <td>50.000000</td>\n",
              "      <td>0.000000</td>\n",
              "      <td>5.198820e+05</td>\n",
              "      <td>3.604062e+05</td>\n",
              "      <td>23818.000000</td>\n",
              "      <td>743.000000</td>\n",
              "      <td>1.000000</td>\n",
              "    </tr>\n",
              "    <tr>\n",
              "      <th>max</th>\n",
              "      <td>1.014934e+07</td>\n",
              "      <td>7.000000</td>\n",
              "      <td>43.000000</td>\n",
              "      <td>57.700000</td>\n",
              "      <td>1.304726e+09</td>\n",
              "      <td>7.000000</td>\n",
              "      <td>118.000000</td>\n",
              "      <td>4.000000</td>\n",
              "      <td>1.000000e+08</td>\n",
              "      <td>6.506797e+06</td>\n",
              "      <td>136679.000000</td>\n",
              "      <td>7510.000000</td>\n",
              "      <td>1.000000</td>\n",
              "    </tr>\n",
              "  </tbody>\n",
              "</table>\n",
              "</div>"
            ],
            "text/plain": [
              "       Annual Income    Tax Liens  ...  Credit Score  Credit Default\n",
              "count   5.943000e+03  7500.000000  ...   5943.000000     7500.000000\n",
              "mean    1.366392e+06     0.030133  ...   1151.087498        0.281733\n",
              "std     8.453392e+05     0.271604  ...   1604.451418        0.449874\n",
              "min     1.645970e+05     0.000000  ...    585.000000        0.000000\n",
              "25%     8.443410e+05     0.000000  ...    711.000000        0.000000\n",
              "50%     1.168386e+06     0.000000  ...    731.000000        0.000000\n",
              "75%     1.640137e+06     0.000000  ...    743.000000        1.000000\n",
              "max     1.014934e+07     7.000000  ...   7510.000000        1.000000\n",
              "\n",
              "[8 rows x 13 columns]"
            ]
          },
          "metadata": {
            "tags": []
          },
          "execution_count": 5
        }
      ]
    },
    {
      "cell_type": "markdown",
      "metadata": {
        "id": "pRLzV28-MBol"
      },
      "source": [
        "## Исследование признаков"
      ]
    },
    {
      "cell_type": "code",
      "metadata": {
        "colab": {
          "base_uri": "https://localhost:8080/"
        },
        "id": "gpKBZpoTuJPR",
        "outputId": "683f79bd-c689-491b-a0e6-23df7f4cf946"
      },
      "source": [
        "for i in df_train:\n",
        "  print('\\nКоличество уникальных значений признака ' + i + '\\n')\n",
        "  print(df_train[i].value_counts())"
      ],
      "execution_count": 6,
      "outputs": [
        {
          "output_type": "stream",
          "text": [
            "\n",
            "Количество уникальных значений признака Home Ownership\n",
            "\n",
            "Home Mortgage    3637\n",
            "Rent             3204\n",
            "Own Home          647\n",
            "Have Mortgage      12\n",
            "Name: Home Ownership, dtype: int64\n",
            "\n",
            "Количество уникальных значений признака Annual Income\n",
            "\n",
            "1161660.0    4\n",
            "1058376.0    4\n",
            "1338113.0    4\n",
            "1043651.0    4\n",
            "969475.0     4\n",
            "            ..\n",
            "1141254.0    1\n",
            "7907382.0    1\n",
            "1534478.0    1\n",
            "972040.0     1\n",
            "1654786.0    1\n",
            "Name: Annual Income, Length: 5478, dtype: int64\n",
            "\n",
            "Количество уникальных значений признака Years in current job\n",
            "\n",
            "10+ years    2332\n",
            "2 years       705\n",
            "3 years       620\n",
            "< 1 year      563\n",
            "5 years       516\n",
            "1 year        504\n",
            "4 years       469\n",
            "6 years       426\n",
            "7 years       396\n",
            "8 years       339\n",
            "9 years       259\n",
            "Name: Years in current job, dtype: int64\n",
            "\n",
            "Количество уникальных значений признака Tax Liens\n",
            "\n",
            "0.0    7366\n",
            "1.0      83\n",
            "2.0      30\n",
            "3.0      10\n",
            "4.0       6\n",
            "5.0       2\n",
            "6.0       2\n",
            "7.0       1\n",
            "Name: Tax Liens, dtype: int64\n",
            "\n",
            "Количество уникальных значений признака Number of Open Accounts\n",
            "\n",
            "9.0     728\n",
            "11.0    692\n",
            "10.0    677\n",
            "8.0     638\n",
            "7.0     613\n",
            "12.0    562\n",
            "6.0     504\n",
            "13.0    465\n",
            "14.0    420\n",
            "5.0     325\n",
            "15.0    313\n",
            "16.0    265\n",
            "17.0    232\n",
            "4.0     212\n",
            "18.0    143\n",
            "19.0    139\n",
            "3.0      95\n",
            "20.0     93\n",
            "21.0     78\n",
            "23.0     59\n",
            "24.0     50\n",
            "22.0     49\n",
            "25.0     32\n",
            "2.0      28\n",
            "28.0     14\n",
            "27.0     14\n",
            "26.0     12\n",
            "30.0     11\n",
            "29.0     10\n",
            "32.0      6\n",
            "33.0      6\n",
            "31.0      6\n",
            "34.0      2\n",
            "37.0      2\n",
            "43.0      1\n",
            "35.0      1\n",
            "41.0      1\n",
            "38.0      1\n",
            "42.0      1\n",
            "Name: Number of Open Accounts, dtype: int64\n",
            "\n",
            "Количество уникальных значений признака Years of Credit History\n",
            "\n",
            "15.0    104\n",
            "16.0     99\n",
            "16.5     91\n",
            "17.0     86\n",
            "17.5     83\n",
            "       ... \n",
            "43.2      1\n",
            "4.9       1\n",
            "39.5      1\n",
            "42.4      1\n",
            "39.8      1\n",
            "Name: Years of Credit History, Length: 408, dtype: int64\n",
            "\n",
            "Количество уникальных значений признака Maximum Open Credit\n",
            "\n",
            "0.0          65\n",
            "319110.0      5\n",
            "334796.0      3\n",
            "607046.0      3\n",
            "294030.0      3\n",
            "             ..\n",
            "534600.0      1\n",
            "1026124.0     1\n",
            "77066.0       1\n",
            "780164.0      1\n",
            "350768.0      1\n",
            "Name: Maximum Open Credit, Length: 6963, dtype: int64\n",
            "\n",
            "Количество уникальных значений признака Number of Credit Problems\n",
            "\n",
            "0.0    6469\n",
            "1.0     882\n",
            "2.0      93\n",
            "3.0      35\n",
            "4.0       9\n",
            "5.0       7\n",
            "6.0       4\n",
            "7.0       1\n",
            "Name: Number of Credit Problems, dtype: int64\n",
            "\n",
            "Количество уникальных значений признака Months since last delinquent\n",
            "\n",
            "14.0     76\n",
            "29.0     71\n",
            "8.0      68\n",
            "33.0     68\n",
            "13.0     65\n",
            "         ..\n",
            "86.0      1\n",
            "92.0      1\n",
            "118.0     1\n",
            "84.0      1\n",
            "91.0      1\n",
            "Name: Months since last delinquent, Length: 89, dtype: int64\n",
            "\n",
            "Количество уникальных значений признака Bankruptcies\n",
            "\n",
            "0.0    6660\n",
            "1.0     786\n",
            "2.0      31\n",
            "3.0       7\n",
            "4.0       2\n",
            "Name: Bankruptcies, dtype: int64\n",
            "\n",
            "Количество уникальных значений признака Purpose\n",
            "\n",
            "debt consolidation      5944\n",
            "other                    665\n",
            "home improvements        412\n",
            "business loan            129\n",
            "buy a car                 96\n",
            "medical bills             71\n",
            "major purchase            40\n",
            "take a trip               37\n",
            "buy house                 34\n",
            "small business            26\n",
            "wedding                   15\n",
            "moving                    11\n",
            "educational expenses      10\n",
            "vacation                   8\n",
            "renewable energy           2\n",
            "Name: Purpose, dtype: int64\n",
            "\n",
            "Количество уникальных значений признака Term\n",
            "\n",
            "Short Term    5556\n",
            "Long Term     1944\n",
            "Name: Term, dtype: int64\n",
            "\n",
            "Количество уникальных значений признака Current Loan Amount\n",
            "\n",
            "99999999.0    870\n",
            "89298.0         6\n",
            "218064.0        6\n",
            "216106.0        5\n",
            "270226.0        5\n",
            "             ... \n",
            "490006.0        1\n",
            "404756.0        1\n",
            "194414.0        1\n",
            "420376.0        1\n",
            "33792.0         1\n",
            "Name: Current Loan Amount, Length: 5386, dtype: int64\n",
            "\n",
            "Количество уникальных значений признака Current Credit Balance\n",
            "\n",
            "0.0         53\n",
            "191710.0     5\n",
            "53580.0      4\n",
            "106818.0     4\n",
            "155059.0     4\n",
            "            ..\n",
            "229672.0     1\n",
            "349467.0     1\n",
            "116223.0     1\n",
            "797240.0     1\n",
            "189905.0     1\n",
            "Name: Current Credit Balance, Length: 6592, dtype: int64\n",
            "\n",
            "Количество уникальных значений признака Monthly Debt\n",
            "\n",
            "0.0        6\n",
            "19222.0    4\n",
            "19667.0    4\n",
            "9525.0     3\n",
            "22364.0    3\n",
            "          ..\n",
            "12897.0    1\n",
            "27541.0    1\n",
            "23227.0    1\n",
            "55957.0    1\n",
            "17.0       1\n",
            "Name: Monthly Debt, Length: 6716, dtype: int64\n",
            "\n",
            "Количество уникальных значений признака Credit Score\n",
            "\n",
            "740.0     169\n",
            "747.0     168\n",
            "748.0     157\n",
            "745.0     152\n",
            "741.0     151\n",
            "         ... \n",
            "602.0       1\n",
            "616.0       1\n",
            "585.0       1\n",
            "620.0       1\n",
            "7010.0      1\n",
            "Name: Credit Score, Length: 268, dtype: int64\n",
            "\n",
            "Количество уникальных значений признака Credit Default\n",
            "\n",
            "0    5387\n",
            "1    2113\n",
            "Name: Credit Default, dtype: int64\n"
          ],
          "name": "stdout"
        }
      ]
    },
    {
      "cell_type": "code",
      "metadata": {
        "id": "g4SKRKFEuWKi",
        "colab": {
          "base_uri": "https://localhost:8080/",
          "height": 0
        },
        "outputId": "60ba17fc-92d6-4a68-82fd-53c1e73d67e7"
      },
      "source": [
        "df_train.hist(figsize=(17,17), bins=20, grid=False)\n",
        "plt.show()"
      ],
      "execution_count": 7,
      "outputs": [
        {
          "output_type": "display_data",
          "data": {
            "image/png": "[encoded data removed]",
            "text/plain": [
              "<Figure size 1224x1224 with 16 Axes>"
            ]
          },
          "metadata": {
            "tags": [],
            "needs_background": "light"
          }
        }
      ]
    },
    {
      "cell_type": "code",
      "metadata": {
        "colab": {
          "base_uri": "https://localhost:8080/",
          "height": 0
        },
        "id": "0TEDuzeMn6L-",
        "outputId": "c99a7423-27dd-471b-cb8f-697439fd380a"
      },
      "source": [
        "df_test.hist(figsize=(16,16), bins=20, grid=False)\n",
        "plt.show()"
      ],
      "execution_count": 8,
      "outputs": [
        {
          "output_type": "display_data",
          "data": {
            "image/png": "[encoded data removed]",
            "text/plain": [
              "<Figure size 1152x1152 with 12 Axes>"
            ]
          },
          "metadata": {
            "tags": [],
            "needs_background": "light"
          }
        }
      ]
    },
    {
      "cell_type": "markdown",
      "metadata": {
        "id": "ACpivGNCoanj"
      },
      "source": [
        "**Если сравнить тестовые и тренировочные данные то видно, что: Number of Open Accounts, Number of credit problems, Months sinse last delinquent и Monthly Debt отличаются.**"
      ]
    },
    {
      "cell_type": "markdown",
      "metadata": {
        "id": "S_XLXe2sMKGn"
      },
      "source": [
        "## Исследование целевой переменной"
      ]
    },
    {
      "cell_type": "code",
      "metadata": {
        "colab": {
          "base_uri": "https://localhost:8080/",
          "height": 0
        },
        "id": "DqDEaUi1MKwg",
        "outputId": "801cf8c3-d422-4fd5-bd62-26fcdb5784ca"
      },
      "source": [
        "plt.figure(figsize = (16, 8))\n",
        "\n",
        "sns.distplot(df_train['Credit Default'])\n",
        "\n",
        "plt.title('Распределение целевой переменной')\n",
        "plt.show()"
      ],
      "execution_count": 9,
      "outputs": [
        {
          "output_type": "display_data",
          "data": {
            "image/png": "[encoded data removed]",
            "text/plain": [
              "<Figure size 1152x576 with 1 Axes>"
            ]
          },
          "metadata": {
            "tags": [],
            "needs_background": "light"
          }
        }
      ]
    },
    {
      "cell_type": "markdown",
      "metadata": {
        "id": "10pWKHBdMWBs"
      },
      "source": [
        "## Матрица корреляций"
      ]
    },
    {
      "cell_type": "code",
      "metadata": {
        "colab": {
          "base_uri": "https://localhost:8080/",
          "height": 0
        },
        "id": "OnQWFi3ppDzf",
        "outputId": "019b1632-c77d-4210-e3d1-96977f5c077e"
      },
      "source": [
        "# матрица коореляций\n",
        "plt.figure(figsize=(15, 10))\n",
        "\n",
        "sns.set(font_scale=1.4)\n",
        "\n",
        "corr_matrix = df_train.corr() # вызов корреляции\n",
        "corr_matrix = np.round(corr_matrix, 2) # сколько знаки после запятой\n",
        "corr_matrix[np.abs(corr_matrix) < 0.3] = 0 # все что меньше 0,3 по модулю равно 0\n",
        "\n",
        "sns.heatmap(corr_matrix, annot=True, linewidths=.5, cmap='coolwarm') # строим матрицу корреляций\n",
        "\n",
        "plt.title('Correlation matrix')\n",
        "plt.show()"
      ],
      "execution_count": 10,
      "outputs": [
        {
          "output_type": "display_data",
          "data": {
            "image/png": "[encoded data removed]",
            "text/plain": [
              "<Figure size 1080x720 with 2 Axes>"
            ]
          },
          "metadata": {
            "tags": [],
            "needs_background": "light"
          }
        }
      ]
    },
    {
      "cell_type": "markdown",
      "metadata": {
        "id": "n9mV9aT1pO3F"
      },
      "source": [
        "**Из матрицы видно что Bunkruptcies и Number of credit problem очень сильно зависят друг от друга**"
      ]
    },
    {
      "cell_type": "markdown",
      "metadata": {
        "id": "gos-Gsp4DuNR"
      },
      "source": [
        "# 4.Замена всех категориальных и словесных признаков на числовые"
      ]
    },
    {
      "cell_type": "code",
      "metadata": {
        "colab": {
          "base_uri": "https://localhost:8080/"
        },
        "id": "7uiNj7oJLGMH",
        "outputId": "0bd60dab-bf57-4e96-fe02-08c55c78d637"
      },
      "source": [
        "a = []\n",
        "for col in df_train.columns:\n",
        "  if len(df_train[col].unique()) < 15:\n",
        "    a.append(col)\n",
        "print(a)"
      ],
      "execution_count": 11,
      "outputs": [
        {
          "output_type": "stream",
          "text": [
            "['Home Ownership', 'Years in current job', 'Tax Liens', 'Number of Credit Problems', 'Bankruptcies', 'Term', 'Credit Default']\n"
          ],
          "name": "stdout"
        }
      ]
    },
    {
      "cell_type": "code",
      "metadata": {
        "colab": {
          "base_uri": "https://localhost:8080/"
        },
        "id": "EIdr5O3JMip2",
        "outputId": "c6211b67-d77e-47f9-f162-d5196554385b"
      },
      "source": [
        "df_train.select_dtypes(include = ['object']).columns"
      ],
      "execution_count": 12,
      "outputs": [
        {
          "output_type": "execute_result",
          "data": {
            "text/plain": [
              "Index(['Home Ownership', 'Years in current job', 'Purpose', 'Term'], dtype='object')"
            ]
          },
          "metadata": {
            "tags": []
          },
          "execution_count": 12
        }
      ]
    },
    {
      "cell_type": "markdown",
      "metadata": {
        "id": "QX9HU4rcqw10"
      },
      "source": [
        "**Всего у нас получилось 7 категриальных признаков, но Credit Default мы не будем трогать так как это целевая переменная, но у нас так же есть столбец Purpose который является строковым**"
      ]
    },
    {
      "cell_type": "markdown",
      "metadata": {
        "id": "1_awpA17Dlkd"
      },
      "source": [
        "##Bankruptcies - банкротство"
      ]
    },
    {
      "cell_type": "markdown",
      "metadata": {
        "id": "wi-XDWMxSvrg"
      },
      "source": [
        "**Если взять в пример колонку Bankruptcies то тут видно что человек либо не платил несколько раз либо платил все, в качестве уменьшения уникальных значений можно заменить значения 2,3,4 на 1 так как человек все равно не выплатил кредит а значений 2,3,4 достаточно мало**"
      ]
    },
    {
      "cell_type": "code",
      "metadata": {
        "colab": {
          "base_uri": "https://localhost:8080/"
        },
        "id": "7-vngcqwSrYI",
        "outputId": "488209c5-b025-41a7-f34b-85f80e194b76"
      },
      "source": [
        "df_train['Bankruptcies'].value_counts()"
      ],
      "execution_count": 13,
      "outputs": [
        {
          "output_type": "execute_result",
          "data": {
            "text/plain": [
              "0.0    6660\n",
              "1.0     786\n",
              "2.0      31\n",
              "3.0       7\n",
              "4.0       2\n",
              "Name: Bankruptcies, dtype: int64"
            ]
          },
          "metadata": {
            "tags": []
          },
          "execution_count": 13
        }
      ]
    },
    {
      "cell_type": "code",
      "metadata": {
        "colab": {
          "base_uri": "https://localhost:8080/"
        },
        "id": "yVTkWym1DoUV",
        "outputId": "8f612b24-1982-40d4-e2dc-fe5e44228e01"
      },
      "source": [
        "df_train['Bankruptcies_new'] = df_train['Bankruptcies']\n",
        "df_train.loc[df_train['Bankruptcies_new'] > 1, 'Bankruptcies_new'] = 1\n",
        "df_train['Bankruptcies_new'].value_counts()"
      ],
      "execution_count": 14,
      "outputs": [
        {
          "output_type": "execute_result",
          "data": {
            "text/plain": [
              "0.0    6660\n",
              "1.0     826\n",
              "Name: Bankruptcies_new, dtype: int64"
            ]
          },
          "metadata": {
            "tags": []
          },
          "execution_count": 14
        }
      ]
    },
    {
      "cell_type": "markdown",
      "metadata": {
        "id": "Fp54gYKsFHki"
      },
      "source": [
        "##Home Ownership - домовладелец"
      ]
    },
    {
      "cell_type": "markdown",
      "metadata": {
        "id": "egsmPIiNS17g"
      },
      "source": [
        "**Что касается Home Ownership, то тут можно объединить home mortgage и have mortgage в одно**"
      ]
    },
    {
      "cell_type": "code",
      "metadata": {
        "colab": {
          "base_uri": "https://localhost:8080/"
        },
        "id": "jGhnklYxSzjB",
        "outputId": "1fd17a60-0042-490d-adb1-7af28994a8d4"
      },
      "source": [
        "df_train['Home Ownership'].value_counts()"
      ],
      "execution_count": 15,
      "outputs": [
        {
          "output_type": "execute_result",
          "data": {
            "text/plain": [
              "Home Mortgage    3637\n",
              "Rent             3204\n",
              "Own Home          647\n",
              "Have Mortgage      12\n",
              "Name: Home Ownership, dtype: int64"
            ]
          },
          "metadata": {
            "tags": []
          },
          "execution_count": 15
        }
      ]
    },
    {
      "cell_type": "code",
      "metadata": {
        "colab": {
          "base_uri": "https://localhost:8080/"
        },
        "id": "I98hm_VNFNDb",
        "outputId": "1dc080a8-daf9-45e1-de75-5d0dd90cf701"
      },
      "source": [
        "df_train['Home_Ownership_new'] = df_train['Home Ownership'].replace(['Home Mortgage', 'Rent', 'Own Home', 'Have Mortgage'], [0,1,2,0])\n",
        "df_train['Home_Ownership_new'].value_counts()"
      ],
      "execution_count": 16,
      "outputs": [
        {
          "output_type": "execute_result",
          "data": {
            "text/plain": [
              "0    3649\n",
              "1    3204\n",
              "2     647\n",
              "Name: Home_Ownership_new, dtype: int64"
            ]
          },
          "metadata": {
            "tags": []
          },
          "execution_count": 16
        }
      ]
    },
    {
      "cell_type": "markdown",
      "metadata": {
        "id": "YkSkFwvtFGKK"
      },
      "source": [
        "## Tax Liens - налоговые обременения"
      ]
    },
    {
      "cell_type": "markdown",
      "metadata": {
        "id": "eMc9HHcZFYBx"
      },
      "source": [
        "**Tax Liens можно разделить на 0 и 1, следовательно все что выше 1 превращается в 1**"
      ]
    },
    {
      "cell_type": "code",
      "metadata": {
        "colab": {
          "base_uri": "https://localhost:8080/"
        },
        "id": "5pD12s-zFONR",
        "outputId": "ecff7c13-bd1b-42b2-e80c-7a7f1cad209f"
      },
      "source": [
        "df_train['Tax Liens'].value_counts()"
      ],
      "execution_count": 17,
      "outputs": [
        {
          "output_type": "execute_result",
          "data": {
            "text/plain": [
              "0.0    7366\n",
              "1.0      83\n",
              "2.0      30\n",
              "3.0      10\n",
              "4.0       6\n",
              "5.0       2\n",
              "6.0       2\n",
              "7.0       1\n",
              "Name: Tax Liens, dtype: int64"
            ]
          },
          "metadata": {
            "tags": []
          },
          "execution_count": 17
        }
      ]
    },
    {
      "cell_type": "code",
      "metadata": {
        "colab": {
          "base_uri": "https://localhost:8080/"
        },
        "id": "x-klRheCFToE",
        "outputId": "1127210d-b679-4cbd-9649-8677ded9ff5a"
      },
      "source": [
        "df_train['Tax_Liens_new'] = df_train['Tax Liens']\n",
        "df_train.loc[df_train['Tax_Liens_new'] > 1, 'Tax_Liens_new'] = 1\n",
        "df_train['Tax_Liens_new'].value_counts()"
      ],
      "execution_count": 18,
      "outputs": [
        {
          "output_type": "execute_result",
          "data": {
            "text/plain": [
              "0.0    7366\n",
              "1.0     134\n",
              "Name: Tax_Liens_new, dtype: int64"
            ]
          },
          "metadata": {
            "tags": []
          },
          "execution_count": 18
        }
      ]
    },
    {
      "cell_type": "markdown",
      "metadata": {
        "id": "QF5d1nCRGQRY"
      },
      "source": [
        "## Number of Credit Problems - количество проблем с кредитом"
      ]
    },
    {
      "cell_type": "markdown",
      "metadata": {
        "id": "OVOzQqB7GRwe"
      },
      "source": [
        "**Number of Credit Problems можно разделить на 2 значения 0 и 1, следователньо все что выше 1 равно 1**"
      ]
    },
    {
      "cell_type": "code",
      "metadata": {
        "colab": {
          "base_uri": "https://localhost:8080/"
        },
        "id": "qWVUavcSGXC3",
        "outputId": "8f00690a-5c82-4ec3-dd40-1722993363a2"
      },
      "source": [
        "df_train['Number of Credit Problems'].value_counts()"
      ],
      "execution_count": 19,
      "outputs": [
        {
          "output_type": "execute_result",
          "data": {
            "text/plain": [
              "0.0    6469\n",
              "1.0     882\n",
              "2.0      93\n",
              "3.0      35\n",
              "4.0       9\n",
              "5.0       7\n",
              "6.0       4\n",
              "7.0       1\n",
              "Name: Number of Credit Problems, dtype: int64"
            ]
          },
          "metadata": {
            "tags": []
          },
          "execution_count": 19
        }
      ]
    },
    {
      "cell_type": "code",
      "metadata": {
        "colab": {
          "base_uri": "https://localhost:8080/"
        },
        "id": "euQqo-vgGfwg",
        "outputId": "af90fb3c-107d-48ce-c1ae-6913d8430a72"
      },
      "source": [
        "df_train['Number_of_Credit_Problems_new'] = df_train['Number of Credit Problems']\n",
        "df_train.loc[df_train['Number_of_Credit_Problems_new'] > 1, 'Number_of_Credit_Problems_new'] = 1\n",
        "df_train['Number_of_Credit_Problems_new'].value_counts()"
      ],
      "execution_count": 20,
      "outputs": [
        {
          "output_type": "execute_result",
          "data": {
            "text/plain": [
              "0.0    6469\n",
              "1.0    1031\n",
              "Name: Number_of_Credit_Problems_new, dtype: int64"
            ]
          },
          "metadata": {
            "tags": []
          },
          "execution_count": 20
        }
      ]
    },
    {
      "cell_type": "markdown",
      "metadata": {
        "id": "vi6jenLaG7CE"
      },
      "source": [
        "## Term - срок кредита"
      ]
    },
    {
      "cell_type": "markdown",
      "metadata": {
        "id": "MRbJZNgMHP2Y"
      },
      "source": [
        "**В Term можно поменять Short Term на 0 и Long Term на 1**"
      ]
    },
    {
      "cell_type": "code",
      "metadata": {
        "colab": {
          "base_uri": "https://localhost:8080/"
        },
        "id": "GQ9aBJtgHBSN",
        "outputId": "635d6da1-15fa-4856-ee09-5bb218e41cce"
      },
      "source": [
        "df_train['Term'].value_counts()"
      ],
      "execution_count": 21,
      "outputs": [
        {
          "output_type": "execute_result",
          "data": {
            "text/plain": [
              "Short Term    5556\n",
              "Long Term     1944\n",
              "Name: Term, dtype: int64"
            ]
          },
          "metadata": {
            "tags": []
          },
          "execution_count": 21
        }
      ]
    },
    {
      "cell_type": "code",
      "metadata": {
        "colab": {
          "base_uri": "https://localhost:8080/"
        },
        "id": "dOZiTA7eHIHe",
        "outputId": "dd94b094-7c3a-4606-aa41-896e3bf996ef"
      },
      "source": [
        "df_train['Term_new'] = df_train['Term'].replace(['Short Term', 'Long Term'], [0,1])\n",
        "df_train['Term_new'].value_counts()"
      ],
      "execution_count": 22,
      "outputs": [
        {
          "output_type": "execute_result",
          "data": {
            "text/plain": [
              "0    5556\n",
              "1    1944\n",
              "Name: Term_new, dtype: int64"
            ]
          },
          "metadata": {
            "tags": []
          },
          "execution_count": 22
        }
      ]
    },
    {
      "cell_type": "markdown",
      "metadata": {
        "id": "S0sNUL2KHs-A"
      },
      "source": [
        "## Years in current job - количество лет на текущем месте работы"
      ]
    },
    {
      "cell_type": "markdown",
      "metadata": {
        "id": "CVXzfVenH0TW"
      },
      "source": [
        "**В Years in current job надо поменять словесные значений на такие же только числовые, только за место < 1 year поменять на 0**"
      ]
    },
    {
      "cell_type": "code",
      "metadata": {
        "colab": {
          "base_uri": "https://localhost:8080/"
        },
        "id": "WgCyGm7HHuaI",
        "outputId": "6213a7bd-2904-44d9-afd9-5dbc37efb54a"
      },
      "source": [
        "df_train['Years in current job'].value_counts()"
      ],
      "execution_count": 23,
      "outputs": [
        {
          "output_type": "execute_result",
          "data": {
            "text/plain": [
              "10+ years    2332\n",
              "2 years       705\n",
              "3 years       620\n",
              "< 1 year      563\n",
              "5 years       516\n",
              "1 year        504\n",
              "4 years       469\n",
              "6 years       426\n",
              "7 years       396\n",
              "8 years       339\n",
              "9 years       259\n",
              "Name: Years in current job, dtype: int64"
            ]
          },
          "metadata": {
            "tags": []
          },
          "execution_count": 23
        }
      ]
    },
    {
      "cell_type": "code",
      "metadata": {
        "colab": {
          "base_uri": "https://localhost:8080/"
        },
        "id": "l27ddc_5H_5Q",
        "outputId": "90faa639-8e3e-487c-d75e-39e31d9a6696"
      },
      "source": [
        "df_train['Years_in_current_job_new'] = df_train['Years in current job'].replace(\n",
        "    ['10+ years', '2 years', '3 years', '< 1 year', '5 years', '1 year', '4 years', '6 years', '7 years', '8 years', '9 years'],\n",
        "    [10,2,3,0,5,1,4,6,7,8,9] )\n",
        "df_train['Years_in_current_job_new'].value_counts()"
      ],
      "execution_count": 24,
      "outputs": [
        {
          "output_type": "execute_result",
          "data": {
            "text/plain": [
              "10.0    2332\n",
              "2.0      705\n",
              "3.0      620\n",
              "0.0      563\n",
              "5.0      516\n",
              "1.0      504\n",
              "4.0      469\n",
              "6.0      426\n",
              "7.0      396\n",
              "8.0      339\n",
              "9.0      259\n",
              "Name: Years_in_current_job_new, dtype: int64"
            ]
          },
          "metadata": {
            "tags": []
          },
          "execution_count": 24
        }
      ]
    },
    {
      "cell_type": "markdown",
      "metadata": {
        "id": "Xgrc5C47I9tn"
      },
      "source": [
        "## Purpose - цель кредита"
      ]
    },
    {
      "cell_type": "code",
      "metadata": {
        "colab": {
          "base_uri": "https://localhost:8080/"
        },
        "id": "gjBCWwPQJa3o",
        "outputId": "f0e8cd15-368f-4613-bb3b-8808cd79b506"
      },
      "source": [
        "df_train['Purpose'].value_counts()"
      ],
      "execution_count": 25,
      "outputs": [
        {
          "output_type": "execute_result",
          "data": {
            "text/plain": [
              "debt consolidation      5944\n",
              "other                    665\n",
              "home improvements        412\n",
              "business loan            129\n",
              "buy a car                 96\n",
              "medical bills             71\n",
              "major purchase            40\n",
              "take a trip               37\n",
              "buy house                 34\n",
              "small business            26\n",
              "wedding                   15\n",
              "moving                    11\n",
              "educational expenses      10\n",
              "vacation                   8\n",
              "renewable energy           2\n",
              "Name: Purpose, dtype: int64"
            ]
          },
          "metadata": {
            "tags": []
          },
          "execution_count": 25
        }
      ]
    },
    {
      "cell_type": "code",
      "metadata": {
        "colab": {
          "base_uri": "https://localhost:8080/"
        },
        "id": "O6AabUnmKMtg",
        "outputId": "5227db6c-90fa-46d6-db2f-3a9aced4472a"
      },
      "source": [
        "data = {\n",
        "            'debt consolidation': 2,\n",
        "            'other': 0, \n",
        "            'home improvements': 1,\n",
        "            'take a trip': 1, \n",
        "            'buy a car': 1,\n",
        "            'small business': 2,\n",
        "            'business loan': 2,\n",
        "            'wedding': 1,\n",
        "            'educational expenses': 1,\n",
        "            'buy house': 2,\n",
        "            'medical bills': 1,\n",
        "            'moving': 1,\n",
        "            'major purchase': 2,\n",
        "            'vacation':1,\n",
        "            'renewable energy':1    \n",
        "          }\n",
        "\n",
        "df_train['Purpose_new'] = df_train['Purpose'].map(data)\n",
        "df_train['Purpose_new'].value_counts()"
      ],
      "execution_count": 26,
      "outputs": [
        {
          "output_type": "execute_result",
          "data": {
            "text/plain": [
              "2    6173\n",
              "0     665\n",
              "1     662\n",
              "Name: Purpose_new, dtype: int64"
            ]
          },
          "metadata": {
            "tags": []
          },
          "execution_count": 26
        }
      ]
    },
    {
      "cell_type": "markdown",
      "metadata": {
        "id": "Sh5DqcSJS309"
      },
      "source": [
        "# 5.Результаты замены категориальных и словесных признаков в числовой"
      ]
    },
    {
      "cell_type": "code",
      "metadata": {
        "colab": {
          "base_uri": "https://localhost:8080/"
        },
        "id": "9bvbXq31P944",
        "outputId": "b11a7030-dc62-4dec-fe72-8d04bab911a8"
      },
      "source": [
        "df_train.info()"
      ],
      "execution_count": 27,
      "outputs": [
        {
          "output_type": "stream",
          "text": [
            "<class 'pandas.core.frame.DataFrame'>\n",
            "RangeIndex: 7500 entries, 0 to 7499\n",
            "Data columns (total 24 columns):\n",
            " #   Column                         Non-Null Count  Dtype  \n",
            "---  ------                         --------------  -----  \n",
            " 0   Home Ownership                 7500 non-null   object \n",
            " 1   Annual Income                  5943 non-null   float64\n",
            " 2   Years in current job           7129 non-null   object \n",
            " 3   Tax Liens                      7500 non-null   float64\n",
            " 4   Number of Open Accounts        7500 non-null   float64\n",
            " 5   Years of Credit History        7500 non-null   float64\n",
            " 6   Maximum Open Credit            7500 non-null   float64\n",
            " 7   Number of Credit Problems      7500 non-null   float64\n",
            " 8   Months since last delinquent   3419 non-null   float64\n",
            " 9   Bankruptcies                   7486 non-null   float64\n",
            " 10  Purpose                        7500 non-null   object \n",
            " 11  Term                           7500 non-null   object \n",
            " 12  Current Loan Amount            7500 non-null   float64\n",
            " 13  Current Credit Balance         7500 non-null   float64\n",
            " 14  Monthly Debt                   7500 non-null   float64\n",
            " 15  Credit Score                   5943 non-null   float64\n",
            " 16  Credit Default                 7500 non-null   int64  \n",
            " 17  Bankruptcies_new               7486 non-null   float64\n",
            " 18  Home_Ownership_new             7500 non-null   int64  \n",
            " 19  Tax_Liens_new                  7500 non-null   float64\n",
            " 20  Number_of_Credit_Problems_new  7500 non-null   float64\n",
            " 21  Term_new                       7500 non-null   int64  \n",
            " 22  Years_in_current_job_new       7129 non-null   float64\n",
            " 23  Purpose_new                    7500 non-null   int64  \n",
            "dtypes: float64(16), int64(4), object(4)\n",
            "memory usage: 1.4+ MB\n"
          ],
          "name": "stdout"
        }
      ]
    },
    {
      "cell_type": "markdown",
      "metadata": {
        "id": "jSI7PkO4QZwi"
      },
      "source": [
        "# 6.Обработка пропусков"
      ]
    },
    {
      "cell_type": "code",
      "metadata": {
        "colab": {
          "base_uri": "https://localhost:8080/"
        },
        "id": "cmOb43hKRTpu",
        "outputId": "b4621acb-7aaf-4c06-f88b-9022f3541c8b"
      },
      "source": [
        "df_train_pass = df_train[{'Home_Ownership_new', 'Annual Income', 'Years_in_current_job_new', 'Tax_Liens_new', 'Number of Open Accounts',\n",
        "                        'Years of Credit History', 'Maximum Open Credit', 'Number_of_Credit_Problems_new', 'Months since last delinquent',\n",
        "                        'Bankruptcies_new', 'Purpose_new', 'Term_new', 'Current Loan Amount', 'Current Credit Balance', 'Monthly Debt', \n",
        "                        'Credit Score', 'Credit Default'}]\n",
        "df_train_pass.info()"
      ],
      "execution_count": 28,
      "outputs": [
        {
          "output_type": "stream",
          "text": [
            "<class 'pandas.core.frame.DataFrame'>\n",
            "RangeIndex: 7500 entries, 0 to 7499\n",
            "Data columns (total 17 columns):\n",
            " #   Column                         Non-Null Count  Dtype  \n",
            "---  ------                         --------------  -----  \n",
            " 0   Purpose_new                    7500 non-null   int64  \n",
            " 1   Term_new                       7500 non-null   int64  \n",
            " 2   Bankruptcies_new               7486 non-null   float64\n",
            " 3   Maximum Open Credit            7500 non-null   float64\n",
            " 4   Number_of_Credit_Problems_new  7500 non-null   float64\n",
            " 5   Monthly Debt                   7500 non-null   float64\n",
            " 6   Months since last delinquent   3419 non-null   float64\n",
            " 7   Tax_Liens_new                  7500 non-null   float64\n",
            " 8   Credit Score                   5943 non-null   float64\n",
            " 9   Home_Ownership_new             7500 non-null   int64  \n",
            " 10  Annual Income                  5943 non-null   float64\n",
            " 11  Number of Open Accounts        7500 non-null   float64\n",
            " 12  Years_in_current_job_new       7129 non-null   float64\n",
            " 13  Current Credit Balance         7500 non-null   float64\n",
            " 14  Years of Credit History        7500 non-null   float64\n",
            " 15  Credit Default                 7500 non-null   int64  \n",
            " 16  Current Loan Amount            7500 non-null   float64\n",
            "dtypes: float64(13), int64(4)\n",
            "memory usage: 996.2 KB\n"
          ],
          "name": "stdout"
        }
      ]
    },
    {
      "cell_type": "markdown",
      "metadata": {
        "id": "GXE9TbT83gBi"
      },
      "source": [
        "**У нас пропуски в признаках: Months since last delinquent, Years_in_current_job_new, Bankruptcies_new, Annual Income и Credit Score**"
      ]
    },
    {
      "cell_type": "markdown",
      "metadata": {
        "id": "YWRibHtv355f"
      },
      "source": [
        "## Months since last delinquent - количество месяцев с последней просрочки платежа"
      ]
    },
    {
      "cell_type": "code",
      "metadata": {
        "colab": {
          "base_uri": "https://localhost:8080/",
          "height": 0
        },
        "id": "NV4ETzYC4qnw",
        "outputId": "bed63130-901b-4fcc-8acf-bfec582d98a9"
      },
      "source": [
        "df_train_pass['Months_since_last_delinquent_new_pass'] = df_train_pass['Months since last delinquent']\n",
        "df_train_pass.loc[df_train_pass['Months_since_last_delinquent_new_pass'].isna(), 'Months_since_last_delinquent_new_pass'] = df_train_pass['Months_since_last_delinquent_new_pass'].std()\n",
        "\n",
        "sns.distplot(df_train_pass['Months_since_last_delinquent_new_pass'])\n",
        "plt.title('Распределение Months_since_last_delinquent_new_pass')\n",
        "plt.show()\n",
        "\n",
        "df_train_pass['Months_since_last_delinquent_new_pass'].describe()"
      ],
      "execution_count": 29,
      "outputs": [
        {
          "output_type": "display_data",
          "data": {
            "image/png": "[encoded data removed]",
            "text/plain": [
              "<Figure size 432x288 with 1 Axes>"
            ]
          },
          "metadata": {
            "tags": []
          }
        },
        {
          "output_type": "execute_result",
          "data": {
            "text/plain": [
              "count    7500.000000\n",
              "mean       27.616802\n",
              "std        16.011196\n",
              "min         0.000000\n",
              "25%        21.688806\n",
              "50%        21.688806\n",
              "75%        29.000000\n",
              "max       118.000000\n",
              "Name: Months_since_last_delinquent_new_pass, dtype: float64"
            ]
          },
          "metadata": {
            "tags": []
          },
          "execution_count": 29
        }
      ]
    },
    {
      "cell_type": "markdown",
      "metadata": {
        "id": "rmoErg5G5WHZ"
      },
      "source": [
        "## Years_in_current_job_new"
      ]
    },
    {
      "cell_type": "code",
      "metadata": {
        "colab": {
          "base_uri": "https://localhost:8080/",
          "height": 0
        },
        "id": "limUUM2g6t7D",
        "outputId": "858ae801-bcb2-4180-8658-b658d6a36fb7"
      },
      "source": [
        "df_train_pass['Years_in_current_job_new_pass'] = df_train_pass['Years_in_current_job_new']\n",
        "df_train_pass.loc[df_train_pass['Years_in_current_job_new_pass'].isna(), 'Years_in_current_job_new_pass'] = df_train_pass['Years_in_current_job_new_pass'].std()\n",
        "\n",
        "sns.distplot(df_train_pass['Years_in_current_job_new_pass'])\n",
        "plt.title('Распределение Years_in_current_job_new_pass')\n",
        "plt.show()\n",
        "\n",
        "df_train_pass['Years_in_current_job_new_pass'].describe()"
      ],
      "execution_count": 30,
      "outputs": [
        {
          "output_type": "display_data",
          "data": {
            "image/png": "[encoded data removed]",
            "text/plain": [
              "<Figure size 432x288 with 1 Axes>"
            ]
          },
          "metadata": {
            "tags": []
          }
        },
        {
          "output_type": "execute_result",
          "data": {
            "text/plain": [
              "count    7500.000000\n",
              "mean        5.768541\n",
              "std         3.563280\n",
              "min         0.000000\n",
              "25%         3.000000\n",
              "50%         6.000000\n",
              "75%        10.000000\n",
              "max        10.000000\n",
              "Name: Years_in_current_job_new_pass, dtype: float64"
            ]
          },
          "metadata": {
            "tags": []
          },
          "execution_count": 30
        }
      ]
    },
    {
      "cell_type": "markdown",
      "metadata": {
        "id": "MhTapdfq68CX"
      },
      "source": [
        "## Bankruptcies_new"
      ]
    },
    {
      "cell_type": "code",
      "metadata": {
        "colab": {
          "base_uri": "https://localhost:8080/",
          "height": 0
        },
        "id": "s-qJDhLy69CX",
        "outputId": "3212a569-56c2-4993-91d3-c7bc8a03eec9"
      },
      "source": [
        "df_train_pass['Bankruptcies_new_pass'] = df_train_pass['Bankruptcies_new']\n",
        "df_train_pass.loc[df_train_pass['Bankruptcies_new_pass'].isna(), 'Bankruptcies_new_pass'] = df_train_pass['Bankruptcies_new_pass'].mean()\n",
        "\n",
        "sns.distplot(df_train_pass['Bankruptcies_new_pass'])\n",
        "plt.title('Распределение Bankruptcies_new_pass')\n",
        "plt.show()\n",
        "\n",
        "df_train_pass['Bankruptcies_new_pass'].describe()"
      ],
      "execution_count": 31,
      "outputs": [
        {
          "output_type": "display_data",
          "data": {
            "image/png": "[encoded data removed]",
            "text/plain": [
              "<Figure size 432x288 with 1 Axes>"
            ]
          },
          "metadata": {
            "tags": []
          }
        },
        {
          "output_type": "execute_result",
          "data": {
            "text/plain": [
              "count    7500.000000\n",
              "mean        0.110339\n",
              "std         0.313041\n",
              "min         0.000000\n",
              "25%         0.000000\n",
              "50%         0.000000\n",
              "75%         0.000000\n",
              "max         1.000000\n",
              "Name: Bankruptcies_new_pass, dtype: float64"
            ]
          },
          "metadata": {
            "tags": []
          },
          "execution_count": 31
        }
      ]
    },
    {
      "cell_type": "markdown",
      "metadata": {
        "id": "pANLsxnw7Ksm"
      },
      "source": [
        "## Annual Income - годовой доход"
      ]
    },
    {
      "cell_type": "code",
      "metadata": {
        "colab": {
          "base_uri": "https://localhost:8080/",
          "height": 0
        },
        "id": "GEMhFwow7O_e",
        "outputId": "3f735c0d-e20a-4baa-ec8b-19a3a42cf996"
      },
      "source": [
        "df_train_pass['Annual_Income_new_pass'] = df_train_pass['Annual Income']\n",
        "df_train_pass.loc[df_train_pass['Annual_Income_new_pass'].isna(), 'Annual_Income_new_pass'] = df_train_pass['Annual_Income_new_pass'].mean()\n",
        "\n",
        "sns.distplot(df_train_pass['Annual_Income_new_pass'])\n",
        "plt.title('Распределение Annual_Income_new_pass')\n",
        "plt.show()\n",
        "\n",
        "df_train_pass['Annual_Income_new_pass'].describe()"
      ],
      "execution_count": 32,
      "outputs": [
        {
          "output_type": "display_data",
          "data": {
            "image/png": "[encoded data removed]",
            "text/plain": [
              "<Figure size 432x288 with 1 Axes>"
            ]
          },
          "metadata": {
            "tags": []
          }
        },
        {
          "output_type": "execute_result",
          "data": {
            "text/plain": [
              "count    7.500000e+03\n",
              "mean     1.366392e+06\n",
              "std      7.524812e+05\n",
              "min      1.645970e+05\n",
              "25%      9.311330e+05\n",
              "50%      1.366392e+06\n",
              "75%      1.499974e+06\n",
              "max      1.014934e+07\n",
              "Name: Annual_Income_new_pass, dtype: float64"
            ]
          },
          "metadata": {
            "tags": []
          },
          "execution_count": 32
        }
      ]
    },
    {
      "cell_type": "markdown",
      "metadata": {
        "id": "tsi5Lrcj7eNn"
      },
      "source": [
        "## Credit Score - баллы кредитного рейтинга"
      ]
    },
    {
      "cell_type": "code",
      "metadata": {
        "colab": {
          "base_uri": "https://localhost:8080/",
          "height": 0
        },
        "id": "2vUPwWfH7fEO",
        "outputId": "1df530d0-8e0a-4546-babc-c373852fe59e"
      },
      "source": [
        "df_train_pass['Credit_Score_new_pass'] = df_train_pass['Credit Score']\n",
        "df_train_pass.loc[df_train_pass['Credit_Score_new_pass'].isna(), 'Credit_Score_new_pass'] = df_train_pass['Credit_Score_new_pass'].mean()\n",
        "\n",
        "sns.distplot(df_train_pass['Credit_Score_new_pass'])\n",
        "plt.title('Распределение Credit_Score_new_pass')\n",
        "plt.show()\n",
        "\n",
        "df_train_pass['Credit_Score_new_pass'].describe()"
      ],
      "execution_count": 33,
      "outputs": [
        {
          "output_type": "display_data",
          "data": {
            "image/png": "[encoded data removed]",
            "text/plain": [
              "<Figure size 432x288 with 1 Axes>"
            ]
          },
          "metadata": {
            "tags": []
          }
        },
        {
          "output_type": "execute_result",
          "data": {
            "text/plain": [
              "count    7500.000000\n",
              "mean     1151.087498\n",
              "std      1428.207201\n",
              "min       585.000000\n",
              "25%       718.000000\n",
              "50%       738.000000\n",
              "75%      1151.087498\n",
              "max      7510.000000\n",
              "Name: Credit_Score_new_pass, dtype: float64"
            ]
          },
          "metadata": {
            "tags": []
          },
          "execution_count": 33
        }
      ]
    },
    {
      "cell_type": "code",
      "metadata": {
        "colab": {
          "base_uri": "https://localhost:8080/"
        },
        "id": "rfG8_Z5E8OQZ",
        "outputId": "496201db-1c80-471e-c60e-0915aa594108"
      },
      "source": [
        "df_train_pass.columns"
      ],
      "execution_count": 34,
      "outputs": [
        {
          "output_type": "execute_result",
          "data": {
            "text/plain": [
              "Index(['Purpose_new', 'Term_new', 'Bankruptcies_new', 'Maximum Open Credit',\n",
              "       'Number_of_Credit_Problems_new', 'Monthly Debt',\n",
              "       'Months since last delinquent', 'Tax_Liens_new', 'Credit Score',\n",
              "       'Home_Ownership_new', 'Annual Income', 'Number of Open Accounts',\n",
              "       'Years_in_current_job_new', 'Current Credit Balance',\n",
              "       'Years of Credit History', 'Credit Default', 'Current Loan Amount',\n",
              "       'Months_since_last_delinquent_new_pass',\n",
              "       'Years_in_current_job_new_pass', 'Bankruptcies_new_pass',\n",
              "       'Annual_Income_new_pass', 'Credit_Score_new_pass'],\n",
              "      dtype='object')"
            ]
          },
          "metadata": {
            "tags": []
          },
          "execution_count": 34
        }
      ]
    },
    {
      "cell_type": "markdown",
      "metadata": {
        "id": "sV8_ZSlW7wZd"
      },
      "source": [
        "# 7.Обучение на train"
      ]
    },
    {
      "cell_type": "code",
      "metadata": {
        "id": "6oL1OeiLCXjb"
      },
      "source": [
        "X = df_train_pass[{'Years of Credit History', 'Home_Ownership_new', 'Purpose_new', 'Current Loan Amount', 'Monthly Debt',\n",
        "       'Current Credit Balance', 'Term_new',\n",
        "       'Number of Open Accounts', 'Tax_Liens_new',\n",
        "       'Maximum Open Credit',\n",
        "       'Number_of_Credit_Problems_new',\n",
        "       'Months_since_last_delinquent_new_pass',\n",
        "       'Years_in_current_job_new_pass', 'Bankruptcies_new_pass',\n",
        "       'Annual_Income_new_pass', 'Credit_Score_new_pass'}]\n",
        "Y = df_train_pass['Credit Default']\n",
        "\n",
        "X_train, X_test, y_train, y_test = train_test_split(X, Y, test_size=0.33, shuffle=True, random_state=21, stratify=Y)"
      ],
      "execution_count": 35,
      "outputs": []
    },
    {
      "cell_type": "markdown",
      "metadata": {
        "id": "97egIWCuJHvA"
      },
      "source": [
        "## Нужные функции"
      ]
    },
    {
      "cell_type": "code",
      "metadata": {
        "id": "F8h3SIX8F7-b"
      },
      "source": [
        "def balance_df_by_target(df, target_name, method='over'):\n",
        "\n",
        "    assert method in ['over', 'under', 'tomek', 'smote'], 'Неверный метод сэмплирования'\n",
        "    \n",
        "    target_counts = df[target_name].value_counts()\n",
        "\n",
        "    major_class_name = target_counts.argmax()\n",
        "    minor_class_name = target_counts.argmin()\n",
        "\n",
        "    disbalance_coeff = int(target_counts[major_class_name] / target_counts[minor_class_name]) - 1\n",
        "    if method == 'over':\n",
        "        for i in range(disbalance_coeff):\n",
        "            sample = df[df[target_name] == minor_class_name].sample(target_counts[minor_class_name])\n",
        "            df = df.append(sample, ignore_index=True)\n",
        "            \n",
        "    elif method == 'under':\n",
        "        df_ = df.copy()\n",
        "        df = df_[df_[target_name] == minor_class_name]\n",
        "        tmp = df_[df_[target_name] == major_class_name]\n",
        "        df = df.append(tmp.iloc[\n",
        "            np.random.randint(0, tmp.shape[0], target_counts[minor_class_name])\n",
        "        ], ignore_index=True)\n",
        "\n",
        "    elif method == 'tomek':\n",
        "        from imblearn.under_sampling import TomekLinks\n",
        "        tl = TomekLinks()\n",
        "        X_tomek, y_tomek = tl.fit_sample(df.drop(columns=target_name), df[target_name])\n",
        "        df = pd.concat([X_tomek, y_tomek], axis=1)\n",
        "    \n",
        "    elif method == 'smote':\n",
        "        from imblearn.over_sampling import SMOTE\n",
        "        smote = SMOTE()\n",
        "        X_smote, y_smote = smote.fit_sample(df.drop(columns=target_name), df[target_name])\n",
        "        df = pd.concat([X_smote, y_smote], axis=1)\n",
        "\n",
        "    return df.sample(frac=1) "
      ],
      "execution_count": 36,
      "outputs": []
    },
    {
      "cell_type": "code",
      "metadata": {
        "id": "WKroU7bhGq7Y"
      },
      "source": [
        "def get_classification_report(y_train_true, y_train_pred, y_test_true, y_test_pred):\n",
        "    print('TRAIN\\n\\n' + classification_report(y_train_true, y_train_pred))\n",
        "    print('TEST\\n\\n' + classification_report(y_test_true, y_test_pred))\n",
        "    print('CONFUSION MATRIX\\n')\n",
        "    print(pd.crosstab(y_test_true, y_test_pred))"
      ],
      "execution_count": 37,
      "outputs": []
    },
    {
      "cell_type": "code",
      "metadata": {
        "id": "L2yDl4HOGmcZ"
      },
      "source": [
        "def evaluate_preds(model, X_train, X_test, y_train, y_test):\n",
        "    y_train_pred = model.predict(X_train)\n",
        "    y_test_pred = model.predict(X_test)\n",
        "\n",
        "    get_classification_report(y_train, y_train_pred, y_test, y_test_pred)"
      ],
      "execution_count": 38,
      "outputs": []
    },
    {
      "cell_type": "markdown",
      "metadata": {
        "id": "bocdu_ZWIaMY"
      },
      "source": [
        "## Балансировка целевой переменной"
      ]
    },
    {
      "cell_type": "code",
      "metadata": {
        "colab": {
          "base_uri": "https://localhost:8080/"
        },
        "id": "twzkk8HEEEuS",
        "outputId": "57047734-4223-4b1c-d7e2-55738777bc3e"
      },
      "source": [
        "df_for_balancing = pd.concat([X_train, y_train], axis=1)\n",
        "df_balanced = balance_df_by_target(df_for_balancing, 'Credit Default', method='over')\n",
        "    \n",
        "df_balanced['Credit Default'].value_counts()"
      ],
      "execution_count": 39,
      "outputs": [
        {
          "output_type": "execute_result",
          "data": {
            "text/plain": [
              "0    3609\n",
              "1    2832\n",
              "Name: Credit Default, dtype: int64"
            ]
          },
          "metadata": {
            "tags": []
          },
          "execution_count": 39
        }
      ]
    },
    {
      "cell_type": "code",
      "metadata": {
        "id": "01BuYUx6JV65"
      },
      "source": [
        "X_train = df_balanced.drop(columns='Credit Default')\n",
        "y_train = df_balanced['Credit Default']"
      ],
      "execution_count": 40,
      "outputs": []
    },
    {
      "cell_type": "markdown",
      "metadata": {
        "id": "zDz9X-OhGG4S"
      },
      "source": [
        "# Построение и оценка моделей"
      ]
    },
    {
      "cell_type": "markdown",
      "metadata": {
        "id": "PNinATjYG9Aw"
      },
      "source": [
        "Логистическая регрессия"
      ]
    },
    {
      "cell_type": "code",
      "metadata": {
        "colab": {
          "base_uri": "https://localhost:8080/"
        },
        "id": "6R7OlybJGKxb",
        "outputId": "d1eaae9f-7364-4986-da5d-f9371ebe28c4"
      },
      "source": [
        "model_lr = LogisticRegression()\n",
        "model_lr.fit(X_train, y_train)\n",
        "\n",
        "evaluate_preds(model_lr, X_train, X_test, y_train, y_test)"
      ],
      "execution_count": 41,
      "outputs": [
        {
          "output_type": "stream",
          "text": [
            "TRAIN\n",
            "\n",
            "              precision    recall  f1-score   support\n",
            "\n",
            "           0       0.67      0.75      0.71      3609\n",
            "           1       0.62      0.53      0.57      2832\n",
            "\n",
            "    accuracy                           0.65      6441\n",
            "   macro avg       0.65      0.64      0.64      6441\n",
            "weighted avg       0.65      0.65      0.65      6441\n",
            "\n",
            "TEST\n",
            "\n",
            "              precision    recall  f1-score   support\n",
            "\n",
            "           0       0.80      0.75      0.77      1778\n",
            "           1       0.45      0.53      0.48       697\n",
            "\n",
            "    accuracy                           0.68      2475\n",
            "   macro avg       0.62      0.64      0.63      2475\n",
            "weighted avg       0.70      0.68      0.69      2475\n",
            "\n",
            "CONFUSION MATRIX\n",
            "\n",
            "col_0              0    1\n",
            "Credit Default           \n",
            "0               1325  453\n",
            "1                329  368\n"
          ],
          "name": "stdout"
        }
      ]
    },
    {
      "cell_type": "markdown",
      "metadata": {
        "id": "9P5gwUMYG-KB"
      },
      "source": [
        "k ближайших соседей"
      ]
    },
    {
      "cell_type": "code",
      "metadata": {
        "colab": {
          "base_uri": "https://localhost:8080/"
        },
        "id": "hrxlGzIwHAfx",
        "outputId": "200b13f3-1655-4e73-ada5-c2ab55951fcb"
      },
      "source": [
        "model_knn = KNeighborsClassifier()\n",
        "model_knn.fit(X_train, y_train)\n",
        "\n",
        "evaluate_preds(model_knn, X_train, X_test, y_train, y_test)"
      ],
      "execution_count": 42,
      "outputs": [
        {
          "output_type": "stream",
          "text": [
            "TRAIN\n",
            "\n",
            "              precision    recall  f1-score   support\n",
            "\n",
            "           0       0.78      0.81      0.80      3609\n",
            "           1       0.75      0.71      0.73      2832\n",
            "\n",
            "    accuracy                           0.77      6441\n",
            "   macro avg       0.76      0.76      0.76      6441\n",
            "weighted avg       0.77      0.77      0.77      6441\n",
            "\n",
            "TEST\n",
            "\n",
            "              precision    recall  f1-score   support\n",
            "\n",
            "           0       0.75      0.70      0.72      1778\n",
            "           1       0.34      0.40      0.37       697\n",
            "\n",
            "    accuracy                           0.61      2475\n",
            "   macro avg       0.55      0.55      0.55      2475\n",
            "weighted avg       0.63      0.61      0.62      2475\n",
            "\n",
            "CONFUSION MATRIX\n",
            "\n",
            "col_0              0    1\n",
            "Credit Default           \n",
            "0               1241  537\n",
            "1                416  281\n"
          ],
          "name": "stdout"
        }
      ]
    },
    {
      "cell_type": "markdown",
      "metadata": {
        "id": "MpiF9wPfJrNn"
      },
      "source": [
        "Бустинговые алгоритмы"
      ]
    },
    {
      "cell_type": "markdown",
      "metadata": {
        "id": "YsxKwrXBJrx-"
      },
      "source": [
        "XGBoost"
      ]
    },
    {
      "cell_type": "code",
      "metadata": {
        "colab": {
          "base_uri": "https://localhost:8080/"
        },
        "id": "-VOzZiaJJttu",
        "outputId": "92f58a93-11df-44ca-836a-b1a7dda96b86"
      },
      "source": [
        "model_xgb = xgb.XGBClassifier(random_state=21)\n",
        "model_xgb.fit(X_train, y_train)\n",
        "\n",
        "y_train_pred = model_xgb.predict(X_train)\n",
        "y_test_pred = model_xgb.predict(X_test)\n",
        "\n",
        "get_classification_report(y_train, y_train_pred, y_test, y_test_pred)"
      ],
      "execution_count": 43,
      "outputs": [
        {
          "output_type": "stream",
          "text": [
            "TRAIN\n",
            "\n",
            "              precision    recall  f1-score   support\n",
            "\n",
            "           0       0.72      0.87      0.79      3609\n",
            "           1       0.78      0.58      0.66      2832\n",
            "\n",
            "    accuracy                           0.74      6441\n",
            "   macro avg       0.75      0.72      0.73      6441\n",
            "weighted avg       0.75      0.74      0.73      6441\n",
            "\n",
            "TEST\n",
            "\n",
            "              precision    recall  f1-score   support\n",
            "\n",
            "           0       0.81      0.84      0.82      1778\n",
            "           1       0.54      0.49      0.52       697\n",
            "\n",
            "    accuracy                           0.74      2475\n",
            "   macro avg       0.68      0.67      0.67      2475\n",
            "weighted avg       0.73      0.74      0.74      2475\n",
            "\n",
            "CONFUSION MATRIX\n",
            "\n",
            "col_0              0    1\n",
            "Credit Default           \n",
            "0               1487  291\n",
            "1                352  345\n"
          ],
          "name": "stdout"
        }
      ]
    },
    {
      "cell_type": "markdown",
      "metadata": {
        "id": "_IUke5DEKKTS"
      },
      "source": [
        "LightGBM"
      ]
    },
    {
      "cell_type": "code",
      "metadata": {
        "colab": {
          "base_uri": "https://localhost:8080/"
        },
        "id": "J-Qt6JmBKLPf",
        "outputId": "d216b991-3893-4704-b411-0e9dfcd968a6"
      },
      "source": [
        "model_lgbm = lgbm.LGBMClassifier(random_state=21)\n",
        "model_lgbm.fit(X_train, y_train)\n",
        "\n",
        "y_train_pred = model_lgbm.predict(X_train)\n",
        "y_test_pred = model_lgbm.predict(X_test)\n",
        "\n",
        "get_classification_report(y_train, y_train_pred, y_test, y_test_pred)"
      ],
      "execution_count": 44,
      "outputs": [
        {
          "output_type": "stream",
          "text": [
            "TRAIN\n",
            "\n",
            "              precision    recall  f1-score   support\n",
            "\n",
            "           0       0.93      0.97      0.95      3609\n",
            "           1       0.96      0.91      0.93      2832\n",
            "\n",
            "    accuracy                           0.94      6441\n",
            "   macro avg       0.95      0.94      0.94      6441\n",
            "weighted avg       0.94      0.94      0.94      6441\n",
            "\n",
            "TEST\n",
            "\n",
            "              precision    recall  f1-score   support\n",
            "\n",
            "           0       0.80      0.83      0.81      1778\n",
            "           1       0.52      0.45      0.48       697\n",
            "\n",
            "    accuracy                           0.73      2475\n",
            "   macro avg       0.66      0.64      0.65      2475\n",
            "weighted avg       0.72      0.73      0.72      2475\n",
            "\n",
            "CONFUSION MATRIX\n",
            "\n",
            "col_0              0    1\n",
            "Credit Default           \n",
            "0               1482  296\n",
            "1                382  315\n"
          ],
          "name": "stdout"
        }
      ]
    },
    {
      "cell_type": "markdown",
      "metadata": {
        "id": "leDozhWUKRAV"
      },
      "source": [
        "CatBoost"
      ]
    },
    {
      "cell_type": "code",
      "metadata": {
        "colab": {
          "base_uri": "https://localhost:8080/"
        },
        "id": "KiSc7welKRP0",
        "outputId": "7604591a-5c65-4ea9-fcec-4ace488ce72d"
      },
      "source": [
        "model_catb = catb.CatBoostClassifier(silent=True, random_state=21)\n",
        "model_catb.fit(X_train, y_train)\n",
        "\n",
        "y_train_pred = model_catb.predict(X_train)\n",
        "y_test_pred = model_catb.predict(X_test)\n",
        "\n",
        "get_classification_report(y_train, y_train_pred, y_test, y_test_pred)"
      ],
      "execution_count": 45,
      "outputs": [
        {
          "output_type": "stream",
          "text": [
            "TRAIN\n",
            "\n",
            "              precision    recall  f1-score   support\n",
            "\n",
            "           0       0.90      0.96      0.93      3609\n",
            "           1       0.94      0.87      0.90      2832\n",
            "\n",
            "    accuracy                           0.92      6441\n",
            "   macro avg       0.92      0.91      0.92      6441\n",
            "weighted avg       0.92      0.92      0.92      6441\n",
            "\n",
            "TEST\n",
            "\n",
            "              precision    recall  f1-score   support\n",
            "\n",
            "           0       0.80      0.85      0.82      1778\n",
            "           1       0.54      0.45      0.49       697\n",
            "\n",
            "    accuracy                           0.74      2475\n",
            "   macro avg       0.67      0.65      0.65      2475\n",
            "weighted avg       0.72      0.74      0.73      2475\n",
            "\n",
            "CONFUSION MATRIX\n",
            "\n",
            "col_0              0    1\n",
            "Credit Default           \n",
            "0               1510  268\n",
            "1                386  311\n"
          ],
          "name": "stdout"
        }
      ]
    },
    {
      "cell_type": "markdown",
      "metadata": {
        "id": "5NnVYhmwKeI4"
      },
      "source": [
        "# Выбор лучшей модели и подбор гиперпараметров\n"
      ]
    },
    {
      "cell_type": "code",
      "metadata": {
        "id": "UNBO5Q2iKfWk"
      },
      "source": [
        "model_catb = catb.CatBoostClassifier(silent=True, random_state=21)"
      ],
      "execution_count": 46,
      "outputs": []
    },
    {
      "cell_type": "code",
      "metadata": {
        "id": "lHWgLZhIKgku"
      },
      "source": [
        "params = {'n_estimators':[50, 100, 200, 500], \n",
        "          'max_depth':[3, 5, 7, 10],\n",
        "          'learning_rate':[0.001, 0.01, 0.05, 0.1]}"
      ],
      "execution_count": 47,
      "outputs": []
    },
    {
      "cell_type": "code",
      "metadata": {
        "id": "RI0xIBnQKhtB"
      },
      "source": [
        "cv=KFold(n_splits=3, random_state=21, shuffle=True)"
      ],
      "execution_count": 48,
      "outputs": []
    },
    {
      "cell_type": "code",
      "metadata": {
        "colab": {
          "base_uri": "https://localhost:8080/"
        },
        "id": "Tr_n0jsYKjEn",
        "outputId": "c00647ef-f5cf-4821-ab29-501c8fb05717"
      },
      "source": [
        "%%time\n",
        "\n",
        "rs = RandomizedSearchCV(model_catb, params, scoring='f1', cv=cv, n_jobs=-1)\n",
        "rs.fit(X_train, y_train)"
      ],
      "execution_count": 49,
      "outputs": [
        {
          "output_type": "stream",
          "text": [
            "CPU times: user 24.6 s, sys: 664 ms, total: 25.2 s\n",
            "Wall time: 2min 39s\n"
          ],
          "name": "stdout"
        }
      ]
    },
    {
      "cell_type": "code",
      "metadata": {
        "colab": {
          "base_uri": "https://localhost:8080/"
        },
        "id": "bSMxi8akKkRX",
        "outputId": "13f7e570-dfc2-4c46-cb64-4fbe05b5595c"
      },
      "source": [
        "rs.best_params_"
      ],
      "execution_count": 50,
      "outputs": [
        {
          "output_type": "execute_result",
          "data": {
            "text/plain": [
              "{'learning_rate': 0.05, 'max_depth': 10, 'n_estimators': 500}"
            ]
          },
          "metadata": {
            "tags": []
          },
          "execution_count": 50
        }
      ]
    },
    {
      "cell_type": "code",
      "metadata": {
        "colab": {
          "base_uri": "https://localhost:8080/"
        },
        "id": "e2NsyObbKltA",
        "outputId": "5eb7c78f-c442-411a-9196-68a2c3ef76db"
      },
      "source": [
        "rs.best_score_"
      ],
      "execution_count": 51,
      "outputs": [
        {
          "output_type": "execute_result",
          "data": {
            "text/plain": [
              "0.8110204729568643"
            ]
          },
          "metadata": {
            "tags": []
          },
          "execution_count": 51
        }
      ]
    },
    {
      "cell_type": "markdown",
      "metadata": {
        "id": "ZbG7kChXLqUa"
      },
      "source": [
        "В ходе работы мой выбор пал на два метода обучения: CatBoostClassifier и XGBClassifier следовательно и выбирать я буду из этих двух методов, но если судить по последним тестам, то CatBoostClassifier на мой взгляд проявит себя лучше"
      ]
    }
  ]
}